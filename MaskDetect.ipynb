{
 "metadata": {
  "language_info": {
   "codemirror_mode": {
    "name": "ipython",
    "version": 3
   },
   "file_extension": ".py",
   "mimetype": "text/x-python",
   "name": "python",
   "nbconvert_exporter": "python",
   "pygments_lexer": "ipython3",
   "version": "3.8.5"
  },
  "orig_nbformat": 2,
  "kernelspec": {
   "name": "python385jvsc74a57bd02db524e06e9f5f4ffedc911c917cb75e12dbc923643829bf417064a77eb14d37",
   "display_name": "Python 3.8.5 64-bit"
  }
 },
 "nbformat": 4,
 "nbformat_minor": 2,
 "cells": [
  {
   "source": [
    "# Face Mask Detection \n",
    "## Model Training And Testing \n",
    "## Mask Detection \n",
    "\n",
    "# </> \n",
    "## Mayank Kumar Prajapati \n",
    "## Reg. No :- 190301120072 "
   ],
   "cell_type": "markdown",
   "metadata": {}
  },
  {
   "cell_type": "code",
   "execution_count": 18,
   "metadata": {},
   "outputs": [],
   "source": [
    "import numpy as np \n",
    "import cv2\n",
    "from sklearn.svm import SVC\n",
    "from sklearn.metrics import accuracy_score\n",
    "from sklearn.model_selection import train_test_split"
   ]
  },
  {
   "cell_type": "code",
   "execution_count": 19,
   "metadata": {},
   "outputs": [],
   "source": [
    "with_Mask = np.load(\"With_Mask.npy\")\n",
    "without_Mask = np.load(\"Without_Mask.npy\")"
   ]
  },
  {
   "cell_type": "code",
   "execution_count": 20,
   "metadata": {},
   "outputs": [
    {
     "output_type": "execute_result",
     "data": {
      "text/plain": [
       "(200, 50, 50, 3)"
      ]
     },
     "metadata": {},
     "execution_count": 20
    }
   ],
   "source": [
    "with_Mask.shape"
   ]
  },
  {
   "cell_type": "code",
   "execution_count": 21,
   "metadata": {},
   "outputs": [
    {
     "output_type": "execute_result",
     "data": {
      "text/plain": [
       "(200, 50, 50, 3)"
      ]
     },
     "metadata": {},
     "execution_count": 21
    }
   ],
   "source": [
    "without_Mask.shape"
   ]
  },
  {
   "cell_type": "code",
   "execution_count": 22,
   "metadata": {},
   "outputs": [],
   "source": [
    "with_Mask = with_Mask.reshape(200,50 * 50 * 3)\n",
    "without_Mask = without_Mask.reshape(200,50 * 50 * 3)"
   ]
  },
  {
   "cell_type": "code",
   "execution_count": 23,
   "metadata": {},
   "outputs": [
    {
     "output_type": "execute_result",
     "data": {
      "text/plain": [
       "(200, 7500)"
      ]
     },
     "metadata": {},
     "execution_count": 23
    }
   ],
   "source": [
    "with_Mask.shape"
   ]
  },
  {
   "cell_type": "code",
   "execution_count": 24,
   "metadata": {},
   "outputs": [
    {
     "output_type": "execute_result",
     "data": {
      "text/plain": [
       "(200, 7500)"
      ]
     },
     "metadata": {},
     "execution_count": 24
    }
   ],
   "source": [
    "without_Mask.shape"
   ]
  },
  {
   "cell_type": "code",
   "execution_count": 25,
   "metadata": {},
   "outputs": [],
   "source": [
    "X = np.r_[with_Mask, without_Mask]"
   ]
  },
  {
   "cell_type": "code",
   "execution_count": 26,
   "metadata": {},
   "outputs": [
    {
     "output_type": "execute_result",
     "data": {
      "text/plain": [
       "(400, 7500)"
      ]
     },
     "metadata": {},
     "execution_count": 26
    }
   ],
   "source": [
    "X.shape"
   ]
  },
  {
   "cell_type": "code",
   "execution_count": 27,
   "metadata": {},
   "outputs": [],
   "source": [
    "# Labeling of Data \n",
    "# First 200 with Mask or next 200 without Mask \n",
    "# with Mask will labeled as 0 \n",
    "# without Mask will labeled as 1 \n",
    "labels = np.zeros(X.shape[0]) "
   ]
  },
  {
   "cell_type": "code",
   "execution_count": 28,
   "metadata": {},
   "outputs": [],
   "source": [
    "labels[200:] = 1.0"
   ]
  },
  {
   "cell_type": "code",
   "execution_count": 29,
   "metadata": {},
   "outputs": [],
   "source": [
    "names = {0 : \"Mask\", 1 : 'No Mask'}"
   ]
  },
  {
   "cell_type": "code",
   "execution_count": 30,
   "metadata": {},
   "outputs": [],
   "source": [
    "x_train, x_test, y_train, y_test = train_test_split(X, labels,test_size=0.25)\n"
   ]
  },
  {
   "cell_type": "code",
   "execution_count": 31,
   "metadata": {},
   "outputs": [
    {
     "output_type": "execute_result",
     "data": {
      "text/plain": [
       "(300, 7500)"
      ]
     },
     "metadata": {},
     "execution_count": 31
    }
   ],
   "source": [
    "x_train.shape"
   ]
  },
  {
   "cell_type": "code",
   "execution_count": 32,
   "metadata": {},
   "outputs": [
    {
     "output_type": "execute_result",
     "data": {
      "text/plain": [
       "SVC()"
      ]
     },
     "metadata": {},
     "execution_count": 32
    }
   ],
   "source": [
    "svm = SVC()\n",
    "svm.fit(x_train,y_train)"
   ]
  },
  {
   "cell_type": "code",
   "execution_count": 33,
   "metadata": {},
   "outputs": [
    {
     "output_type": "execute_result",
     "data": {
      "text/plain": [
       "0.98"
      ]
     },
     "metadata": {},
     "execution_count": 33
    }
   ],
   "source": [
    "y_pred = svm.predict(x_test)\n",
    "accuracy_score(y_test, y_pred)"
   ]
  },
  {
   "cell_type": "code",
   "execution_count": 36,
   "metadata": {},
   "outputs": [],
   "source": [
    "haar_data = cv2.CascadeClassifier('data.xml')\n",
    "capture = cv2.VideoCapture(0)\n",
    "font = cv2.FONT_HERSHEY_DUPLEX\n",
    "while True :\n",
    "    flag, img = capture.read()\n",
    "    if flag : \n",
    "        faces = haar_data.detectMultiScale(img)\n",
    "        for x,y,w,h in faces :\n",
    "            cv2.rectangle(img, (x,y), (x+w, y+h), (245,224,69), 2)\n",
    "            face = img[y:y+h , x:x+w, :]\n",
    "            face = cv2.resize(face,(50,50))\n",
    "            face = face.reshape(1,-1)\n",
    "            pred = svm.predict(face)[0]\n",
    "            n = names[int(pred)]\n",
    "            cv2.putText(img, n, (x,y), font , 1 , (244,250,250),2)\n",
    "            #print(n)\n",
    "        cv2.imshow('Detecting Mask..!',img)\n",
    "        if cv2.waitKey(2) == 27 :\n",
    "            break\n",
    "\n",
    "capture.release()\n",
    "cv2.destroyAllWindows()"
   ]
  },
  {
   "cell_type": "code",
   "execution_count": null,
   "metadata": {},
   "outputs": [],
   "source": []
  }
 ]
}